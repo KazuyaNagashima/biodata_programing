{
 "cells": [
  {
   "cell_type": "raw",
   "metadata": {},
   "source": [
    "①シバン/シェバン（shebang）の追加\n",
    "#!/usr/bin/env python\n",
    "\n",
    "②許可属性（パーミッション）の設定\n",
    "% chmod 744 biodp_02.py\n",
    "7＝4+2+1\n",
    "4＝4+0+0\n",
    "4＝4+0+0\n",
    "r 読み出し可能（4）\n",
    "w 書き込み可能（2）\n",
    "x 実⾏可能（1）\n",
    "\n",
    "③通常のコマンドのように実⾏可能\n",
    "% ./biodp_02.py\n",
    ".　カレントディレクトリ\n",
    "..　親ディレクトリ"
   ]
  },
  {
   "cell_type": "raw",
   "metadata": {},
   "source": [
    "ファイルの種類\n",
    "・テキスト形式\n",
    "・バイナリ形式(画像やbamファイルなど)"
   ]
  },
  {
   "cell_type": "raw",
   "metadata": {},
   "source": [
    "出力の方法\n",
    "①画面への文字列の出力\n",
    "print(xxx, end=\"\") #end=\"\"で改行を抑制\n",
    "\n",
    "②文字列と数値の連結\n",
    "print(\"x\"+str(x))　#strで数値を文字列に変換。＋で連結\n",
    "\n",
    "③文字列のformat\n",
    "\"{0}{1}{2}\".format(\"a\",\"b\",\"c\")\n",
    "\"{0:.2f}\".format(3.141592) #:で書式設定(.2→小数点2以下。f→小数点表示。)"
   ]
  },
  {
   "cell_type": "raw",
   "metadata": {},
   "source": [
    "データ構造\n",
    "①リスト:追加可能。[]で表示。\n",
    "②タプル:追加不可。()で表示。(コレクション)\n",
    "③辞書:キーとペアの組み合わせ。(ハッシュ、連想配列、連想リスト)"
   ]
  },
  {
   "cell_type": "raw",
   "metadata": {},
   "source": [
    "条件比較\n",
    "if 条件文1 :\n",
    "    実行内容\n",
    "    elif 条件文2(1が成り立たないとき):\n",
    "        実行内容\n",
    "        else :\n",
    "            実行内容\n",
    "    "
   ]
  },
  {
   "cell_type": "raw",
   "metadata": {},
   "source": [
    "文字列操作\n",
    "①区切り⽂字による分割　\n",
    "  split()関数\n",
    "\n",
    "②⽂字列⽐較のための関数\n",
    "  startswith()関数（他にも⾊々）\n",
    "    \n",
    "③正規表現によるマッチング\n",
    "  match()関数"
   ]
  },
  {
   "cell_type": "code",
   "execution_count": 3,
   "metadata": {},
   "outputs": [
    {
     "name": "stdout",
     "output_type": "stream",
     "text": [
      "['1', '2', '3', '4', '5']\n",
      "True\n",
      "10\n",
      "20200804\n"
     ]
    }
   ],
   "source": [
    "#ex)文字列操作の例\n",
    "s = \"1 2 3 4 5\"\n",
    "print(s.split(\" \"))\n",
    "\n",
    "s = \"This is a pen\"\n",
    "print(s.startswith(\"This\"))\n",
    "\n",
    "import re #正規表現が使えるようにreモジュールを取り込む\n",
    "s = \"chr10 20200804\"\n",
    "m = re.match(\"chr(\\S+)\\s(\\d+)\", s)\n",
    "print(m.group(1))\n",
    "print(m.group(2))"
   ]
  },
  {
   "cell_type": "raw",
   "metadata": {},
   "source": [
    "繰り返し処理\n",
    "for文:連続したデータ\n",
    "while文:条件が成り立つ\n",
    "    ループからの脱出法;break(終了) continue(ループのブロックの先頭に戻る)"
   ]
  },
  {
   "cell_type": "raw",
   "metadata": {},
   "source": [
    "関数:⼀連の処理をブロック化\n",
    "def f(x, y):　#関数の定義\n",
    "    v = x + y #関数本体\n",
    "    return v #関数の呼び出し"
   ]
  },
  {
   "cell_type": "code",
   "execution_count": 5,
   "metadata": {},
   "outputs": [
    {
     "name": "stdout",
     "output_type": "stream",
     "text": [
      "#CHROM\tPOS\tID\tREF\tALT\n",
      "\n",
      "chr1\t14653\t.\tC\tT\n",
      "\n"
     ]
    },
    {
     "data": {
      "text/plain": [
       "['#CHROM\\tPOS\\tID\\tREF\\tALT\\n',\n",
       " 'chr1\\t14653\\t.\\tC\\tT\\n',\n",
       " 'chr1\\t139213\\t.\\tA\\tG\\n',\n",
       " 'chr1\\t139233\\t.\\tC\\tA\\n',\n",
       " 'chr1\\t325075\\t.\\tG\\tC\\n',\n",
       " 'chr1\\t663097\\t.\\tG\\tC\\n',\n",
       " 'chr1\\t672209\\t.\\tG\\tA\\n',\n",
       " 'chr1\\t808631\\t.\\tG\\tA\\n',\n",
       " 'chr1\\t808922\\t.\\tG\\tA\\n',\n",
       " 'chr1\\t808928\\t.\\tC\\tT\\n',\n",
       " 'chr1\\t861630\\t.\\tG\\tA\\n',\n",
       " 'chr1\\t866319\\t.\\tG\\tA\\n',\n",
       " 'chr1\\t866511\\t.\\tC\\tCCCCT\\n',\n",
       " 'chr1\\t871334\\t.\\tG\\tT\\n',\n",
       " 'chr1\\t874950\\t.\\tT\\tTCCCTGGAGGACC\\n',\n",
       " 'chr1\\t876499\\t.\\tA\\tG']"
      ]
     },
     "execution_count": 5,
     "metadata": {},
     "output_type": "execute_result"
    }
   ],
   "source": [
    "#ファイルからの入力\n",
    "fp = open(\"../sample_data/dat/sample.txt\")\n",
    "lines = fp.readlines() #全行読み込む\n",
    "print(lines[0])\n",
    "print(lines[1])\n",
    "lines"
   ]
  },
  {
   "cell_type": "code",
   "execution_count": 7,
   "metadata": {},
   "outputs": [],
   "source": [
    "#ファイルからの書き出し\n",
    "string = \"ABCDEFG 1234567\"\n",
    "fp = open(\"test.txt\",\"wt\") #ファイル名を指定して開く。\"wt\"はテキスト形式で書き込みの指定。\n",
    "print(string, file=fp)"
   ]
  },
  {
   "cell_type": "raw",
   "metadata": {},
   "source": [
    "実行前に引数を設定\n",
    "\n",
    "<biodp_03.pyの内容>\n",
    "#!/usr/bin/env python\n",
    "import sys\n",
    "argv = sys.argv\n",
    "print(argv)\n",
    "\n",
    "<terminal>\n",
    "% ./biodp_03.py hoge fuga"
   ]
  },
  {
   "cell_type": "code",
   "execution_count": 8,
   "metadata": {},
   "outputs": [
    {
     "data": {
      "image/png": "[encoded data removed]",
      "text/plain": [
       "<Figure size 1152x648 with 1 Axes>"
      ]
     },
     "metadata": {
      "needs_background": "light"
     },
     "output_type": "display_data"
    }
   ],
   "source": [
    "#!/usr/bin/env python\n",
    "import numpy as np\n",
    "import matplotlib.pyplot as plt\n",
    "\n",
    "chr_names = [\"chr1\", \"chr2\", \"chr3\", \"chr4\", \"chr5\"]\n",
    "var_frequencies = [100, 200, 300, 200, 100]\n",
    "\n",
    "x = np.array(chr_names)\n",
    "y = np.array(var_frequencies)\n",
    "\n",
    "fig, ax = plt.subplots(figsize=(16,9))\n",
    "#axはそれぞれの軸\n",
    "ax.bar(x, y, align=\"center\") #棒グラフ\n",
    "ax.set_xlabel(\"Chromosome\")\n",
    "ax.set_ylabel(\"Frequency\")\n",
    "\n",
    "plt.show()\n",
    "\n",
    "filename_png = \"test.png\"\n",
    "fig.savefig(filename_png, dpi=300)\n",
    "\n",
    "plt.close()"
   ]
  }
 ],
 "metadata": {
  "kernelspec": {
   "display_name": "Python 3",
   "language": "python",
   "name": "python3"
  },
  "language_info": {
   "codemirror_mode": {
    "name": "ipython",
    "version": 3
   },
   "file_extension": ".py",
   "mimetype": "text/x-python",
   "name": "python",
   "nbconvert_exporter": "python",
   "pygments_lexer": "ipython3",
   "version": "3.8.3"
  }
 },
 "nbformat": 4,
 "nbformat_minor": 4
}
